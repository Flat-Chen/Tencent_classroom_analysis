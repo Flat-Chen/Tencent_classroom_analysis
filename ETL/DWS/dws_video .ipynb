{
 "cells": [
  {
   "cell_type": "code",
   "execution_count": 36,
   "metadata": {},
   "outputs": [
    {
     "data": {
      "text/plain": [
       "DataFrame[]"
      ]
     },
     "execution_count": 36,
     "metadata": {},
     "output_type": "execute_result"
    }
   ],
   "source": [
    "spark.sql(\n",
    "    '''\n",
    "       CREATE TABLE IF NOT EXISTS txkt.dws_video\n",
    "       (\n",
    "         `video_id`             STRING COMMENT '视频ID',\n",
    "         `video_title`          STRING COMMENT '视频标题',\n",
    "         `add_study_num_1d`     BIGINT COMMENT '课程近一天增加学习人数',\n",
    "         `add_study_num_3d`     BIGINT COMMENT '课程近三天增加学习人数',\n",
    "         `add_study_num_10d`    BIGINT COMMENT '课程近十天增加学习人数', \n",
    "         `add_person_num_1d`    BIGINT COMMENT '课程近一天增加购买/报名人数',\n",
    "         `add_person_num_3d`    BIGINT COMMENT '课程近三天增加购买/报名人数',\n",
    "         `add_person_num_10d`   BIGINT COMMENT '课程近十天增加购买/报名人数', \n",
    "         `profit_num_td`        BIGINT COMMENT '课程累计收益（元）',\n",
    "         `profit_num_1d`        BIGINT COMMENT '课程近一天收益（元）',\n",
    "         `profit_num_3d`        BIGINT COMMENT '课程近三天收益（元）',\n",
    "         `profit_num_10d`       BIGINT COMMENT '课程近十天收益（元）', \n",
    "         `etl_time`             STRING COMMENT '数据加工时间'      \n",
    "       ) \n",
    "       PARTITIONED BY (`dt` STRING) \n",
    "       STORED AS PARQUET\n",
    "    '''\n",
    ")\n"
   ]
  },
  {
   "cell_type": "code",
   "execution_count": 44,
   "metadata": {},
   "outputs": [
    {
     "data": {
      "text/plain": [
       "DataFrame[]"
      ]
     },
     "execution_count": 44,
     "metadata": {},
     "output_type": "execute_result"
    }
   ],
   "source": [
    "spark.sql(\n",
    "    '''\n",
    "       INSERT OVERWRITE TABLE txkt.dws_video PARTITION (dt = \"{dt}\")\n",
    "            SELECT today.video_id,\n",
    "                   today.video_title,\n",
    "                   (NVL(today.recently_study_num, 0) -  NVL(d1.recently_study_num, 0))          AS add_study_num_1d,\n",
    "                   (NVL(today.recently_study_num, 0) -  NVL(d3.recently_study_num, 0))          AS add_study_num_3d,\n",
    "                   (NVL(today.recently_study_num, 0) - NVL(d10.recently_study_num, 0))          AS add_study_num_10d,\n",
    "                   (NVL(today.person_num, 0) -  NVL(d1.person_num, 0))                          AS add_person_num_1d,\n",
    "                   (NVL(today.person_num, 0) -  NVL(d3.person_num, 0))                          AS add_person_num_3d,\n",
    "                   (NVL(today.person_num, 0) - NVL(d10.person_num, 0))                          AS add_person_num_10d,\n",
    "                   today.person_num                                    * today.price            AS profit_num_td,\n",
    "                   (NVL(today.person_num, 0) -  NVL(d1.person_num, 0)) * today.price            AS profit_num_1d,\n",
    "                   (NVL(today.person_num, 0) -  NVL(d3.person_num, 0)) * today.price            AS profit_num_3d,\n",
    "                   (NVL(today.person_num, 0) - NVL(d10.person_num, 0)) * today.price            AS profit_num_10d,\n",
    "                   FROM_UNIXTIME(CAST(NOW() AS BIGINT), 'yyyy-MM-dd HH:mm:ss')                  AS elt_time\n",
    "              FROM (\n",
    "                     SELECT video_id,\n",
    "                            video_title,\n",
    "                            recently_study_num, \n",
    "                            person_num,\n",
    "                            price\n",
    "                       FROM txkt.dim_video_df\n",
    "                      WHERE dt = '{dt}'\n",
    "                   ) AS today\n",
    "         LEFT JOIN (\n",
    "                     SELECT video_id,\n",
    "                            video_title,\n",
    "                            recently_study_num,\n",
    "                            person_num,\n",
    "                            price\n",
    "                       FROM txkt.dim_video_df\n",
    "                      WHERE dt = DATE_SUB('{dt}',1)\n",
    "                   ) AS d1\n",
    "                ON today.video_id = d1.video_id\n",
    "         LEFT JOIN (\n",
    "         \n",
    "            \n",
    "                     SELECT video_id,\n",
    "                            video_title,\n",
    "                            recently_study_num,\n",
    "                            person_num,\n",
    "                            price\n",
    "                       FROM txkt.dim_video_df\n",
    "                      WHERE dt = DATE_SUB('{dt}', 3)\n",
    "                   ) AS d3\n",
    "                ON today.video_id = d3.video_id\n",
    "         LEFT JOIN (\n",
    "                     SELECT video_id,\n",
    "                            video_title,\n",
    "                            recently_study_num,\n",
    "                            person_num,\n",
    "                            price\n",
    "                       FROM txkt.dim_video_df\n",
    "                      WHERE dt = DATE_SUB('{dt}', 10)\n",
    "                   ) AS d10\n",
    "                ON today.video_id = d10.video_id\n",
    "    '''.format(dt='2022-03-26')\n",
    ")"
   ]
  },
  {
   "cell_type": "code",
   "execution_count": null,
   "metadata": {},
   "outputs": [],
   "source": []
  }
 ],
 "metadata": {
  "kernelspec": {
   "display_name": "Python 3",
   "language": "python",
   "name": "python3"
  },
  "language_info": {
   "codemirror_mode": {
    "name": "ipython",
    "version": 3
   },
   "file_extension": ".py",
   "mimetype": "text/x-python",
   "name": "python",
   "nbconvert_exporter": "python",
   "pygments_lexer": "ipython3",
   "version": "3.6.13"
  },
  "orig_nbformat": 4
 },
 "nbformat": 4,
 "nbformat_minor": 2
}
