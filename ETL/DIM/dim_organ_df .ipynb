{
 "cells": [
  {
   "cell_type": "code",
   "execution_count": 59,
   "metadata": {},
   "outputs": [
    {
     "data": {
      "text/plain": [
       "DataFrame[]"
      ]
     },
     "execution_count": 59,
     "metadata": {},
     "output_type": "execute_result"
    }
   ],
   "source": [
    "spark.sql(\n",
    "    '''\n",
    "       CREATE TABLE IF NOT EXISTS txkt.dim_organ_df\n",
    "        (\n",
    "         `organ_name`           STRING COMMENT '机构名称',\n",
    "         `organ_praise_degree`  STRING COMMENT '机构好评度',\n",
    "         `organ_video_num`      STRING COMMENT '机构课程数',\n",
    "         `organ_all_person_num` STRING COMMENT '机构总学习人次',\n",
    "         `etl_time`             STRING COMMENT '数据加工时间'      \n",
    "       ) \n",
    "       PARTITIONED BY (`dt` STRING) \n",
    "       STORED AS PARQUET\n",
    "    '''\n",
    ")\n"
   ]
  },
  {
   "cell_type": "code",
   "execution_count": 8,
   "metadata": {},
   "outputs": [
    {
     "data": {
      "text/plain": [
       "DataFrame[]"
      ]
     },
     "execution_count": 8,
     "metadata": {},
     "output_type": "execute_result"
    }
   ],
   "source": [
    "spark.sql(\n",
    "    'INSERT OVERWRITE TABLE txkt.dim_organ_df PARTITION (dt)' + \n",
    "    '''\n",
    "        SELECT organ_name,         \n",
    "               organ_praise_degree,         \n",
    "               organ_video_num,                 \n",
    "               organ_all_person_num,          \n",
    "               FROM_UNIXTIME(CAST(NOW() AS BIGINT), 'yyyy-MM-dd HH:mm:ss') AS elt_time,\n",
    "               DATE_FORMAT(TO_TIMESTAMP(grab_time, 'yyyy-MM-dd HH:mm:ss'), 'yyyy-MM-dd') AS dt \n",
    "          FROM ( \n",
    "                 SELECT organ_name,         \n",
    "                        organ_praise_degree,         \n",
    "                        organ_video_num,                 \n",
    "                        organ_all_person_num,           \n",
    "                        grab_time,\n",
    "                        ROW_NUMBER() OVER(PARTITION BY organ_name ORDER BY grab_time DESC) AS rk\n",
    "                   FROM txkt.ods_tencent_study_video\n",
    "                  WHERE dt='{dt}' \n",
    "               ) AS a\n",
    "         WHERE rk=1\n",
    "    '''.format(dt='2022-03-27')\n",
    ")"
   ]
  },
  {
   "cell_type": "code",
   "execution_count": 9,
   "metadata": {},
   "outputs": [
    {
     "name": "stdout",
     "output_type": "stream",
     "text": [
      "+----------+--------+\n",
      "|        dt|count(1)|\n",
      "+----------+--------+\n",
      "|2022-03-13|    7998|\n",
      "|2022-03-23|    8081|\n",
      "|2022-03-24|    8072|\n",
      "|2022-03-25|    8018|\n",
      "|2022-03-26|    8074|\n",
      "|2022-03-27|    8051|\n",
      "+----------+--------+\n",
      "\n"
     ]
    }
   ],
   "source": [
    "spark.sql(\"SELECT dt, COUNT(*) FROM txkt.dim_organ_df GROUP BY dt ORDER BY dt;\").show()"
   ]
  },
  {
   "cell_type": "code",
   "execution_count": 66,
   "metadata": {},
   "outputs": [
    {
     "name": "stdout",
     "output_type": "stream",
     "text": [
      "+----------+---+\n",
      "|organ_name|cnt|\n",
      "+----------+---+\n",
      "+----------+---+\n",
      "\n"
     ]
    }
   ],
   "source": [
    "spark.sql(\n",
    "    '''\n",
    "    SELECT organ_name, COUNT(*) AS cnt\n",
    "      FROM txkt.dim_organ_df\n",
    "     WHERE dt='2022-03-23'\n",
    "  GROUP BY organ_name\n",
    "    HAVING cnt>1\n",
    "    '''\n",
    ").show()"
   ]
  },
  {
   "cell_type": "code",
   "execution_count": null,
   "metadata": {},
   "outputs": [],
   "source": []
  }
 ],
 "metadata": {
  "kernelspec": {
   "display_name": "Python 3",
   "language": "python",
   "name": "python3"
  },
  "language_info": {
   "codemirror_mode": {
    "name": "ipython",
    "version": 3
   },
   "file_extension": ".py",
   "mimetype": "text/x-python",
   "name": "python",
   "nbconvert_exporter": "python",
   "pygments_lexer": "ipython3",
   "version": "3.6.13"
  },
  "orig_nbformat": 4
 },
 "nbformat": 4,
 "nbformat_minor": 2
}
