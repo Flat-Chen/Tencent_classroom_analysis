{
 "cells": [
  {
   "cell_type": "code",
   "execution_count": 36,
   "metadata": {},
   "outputs": [
    {
     "data": {
      "text/plain": [
       "DataFrame[]"
      ]
     },
     "execution_count": 36,
     "metadata": {},
     "output_type": "execute_result"
    }
   ],
   "source": [
    "spark.sql(\n",
    "    '''\n",
    "       CREATE TABLE IF NOT EXISTS txkt.ads_organ\n",
    "       (\n",
    "         `organ_name`                   STRING COMMENT '机构名称',\n",
    "         `max_study_video`              STRING COMMENT '机构学习人数最多视频',\n",
    "         `avg_page`                     BIGINT COMMENT '机构课程平均所在页数',\n",
    "         `add_person_num_10d`           BIGINT COMMENT '机构近十天增加购买/报名人数', \n",
    "         `add_person_num_10d_max_video` STRING COMMENT '机构近十天增加购买/报名人数最多的的视频ID'\n",
    "       ) \n",
    "       STORED AS PARQUET\n",
    "    '''\n",
    ")\n"
   ]
  },
  {
   "cell_type": "code",
   "execution_count": 37,
   "metadata": {},
   "outputs": [
    {
     "data": {
      "text/plain": [
       "DataFrame[]"
      ]
     },
     "execution_count": 37,
     "metadata": {},
     "output_type": "execute_result"
    }
   ],
   "source": [
    "spark.sql(\n",
    "    '''\n",
    "        INSERT OVERWRITE TABLE txkt.ads_organ\n",
    "        SELECT organ_name,\n",
    "               max_study_video,\n",
    "               avg_page,\n",
    "               add_person_num_10d,\n",
    "               add_person_num_10d_max_video\n",
    "          FROM txkt.dws_organ\n",
    "         WHERE dt='{dt}'\n",
    "    '''.format(dt='2022-03-23')\n",
    ")"
   ]
  },
  {
   "cell_type": "code",
   "execution_count": 43,
   "metadata": {},
   "outputs": [],
   "source": [
    "df = spark.sql(\n",
    "    '''\n",
    "        SELECT *\n",
    "          FROM txkt.ads_organ\n",
    "    '''\n",
    ")"
   ]
  },
  {
   "cell_type": "code",
   "execution_count": 20,
   "metadata": {},
   "outputs": [],
   "source": [
    "df.write.mode(\"overwrite\") \\\n",
    "  .format(\"jdbc\") \\\n",
    "  .option(\"url\", \"jdbc:mysql://node01:3306/txkt\") \\\n",
    "  .option(\"dbtable\", \"ads_organ\") \\\n",
    "  .option(\"user\", \"root\") \\\n",
    "  .option(\"password\", \"@WSX3edc\") \\\n",
    "  .save()"
   ]
  },
  {
   "cell_type": "code",
   "execution_count": 44,
   "metadata": {},
   "outputs": [],
   "source": [
    "df.write.mode(\"overwrite\") \\\n",
    "  .format(\"jdbc\") \\\n",
    "  .option(\"url\", \"jdbc:mysql://101.35.21.127:3306/txkt\") \\\n",
    "  .option(\"dbtable\", \"ads_organ\") \\\n",
    "  .option(\"user\", \"txkt\") \\\n",
    "  .option(\"password\", \"jKmnGWj6szmDa8hw\") \\\n",
    "  .save()"
   ]
  },
  {
   "cell_type": "code",
   "execution_count": null,
   "metadata": {},
   "outputs": [],
   "source": []
  }
 ],
 "metadata": {
  "kernelspec": {
   "display_name": "Python 3",
   "language": "python",
   "name": "python3"
  },
  "language_info": {
   "codemirror_mode": {
    "name": "ipython",
    "version": 3
   },
   "file_extension": ".py",
   "mimetype": "text/x-python",
   "name": "python",
   "nbconvert_exporter": "python",
   "pygments_lexer": "ipython3",
   "version": "3.6.13"
  },
  "orig_nbformat": 4
 },
 "nbformat": 4,
 "nbformat_minor": 2
}
