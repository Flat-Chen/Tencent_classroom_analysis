{
 "cells": [
  {
   "cell_type": "code",
   "execution_count": 2,
   "metadata": {},
   "outputs": [
    {
     "data": {
      "text/plain": [
       "DataFrame[]"
      ]
     },
     "execution_count": 2,
     "metadata": {},
     "output_type": "execute_result"
    }
   ],
   "source": [
    "spark.sql(\n",
    "    '''\n",
    "        CREATE TABLE IF NOT EXISTS txkt.ads_video\n",
    "        (\n",
    "          `video_id`             STRING COMMENT '视频ID',\n",
    "          `video_title`          STRING COMMENT '视频标题',\n",
    "          `add_study_num_10d`    BIGINT COMMENT '课程近十天增加学习人数',\n",
    "          `add_person_num_10d`   BIGINT COMMENT '课程近十天增加购买/报名人数' \n",
    "        ) \n",
    "        STORED AS PARQUET\n",
    "    '''\n",
    ")\n"
   ]
  },
  {
   "cell_type": "code",
   "execution_count": 29,
   "metadata": {},
   "outputs": [
    {
     "data": {
      "text/plain": [
       "DataFrame[]"
      ]
     },
     "execution_count": 29,
     "metadata": {},
     "output_type": "execute_result"
    }
   ],
   "source": [
    "spark.sql(\n",
    "    '''\n",
    "       INSERT OVERWRITE TABLE txkt.ads_video\n",
    "       SELECT video_id,\n",
    "              video_title,\n",
    "              add_study_num_10d,\n",
    "              add_person_num_10d\n",
    "         FROM txkt.dws_video\n",
    "        WHERE dt='{dt}'\n",
    "    '''.format(dt='2022-03-23')\n",
    ")"
   ]
  },
  {
   "cell_type": "code",
   "execution_count": 30,
   "metadata": {},
   "outputs": [],
   "source": [
    "df = spark.sql(\n",
    "    '''\n",
    "        SELECT *\n",
    "          FROM txkt.ads_video\n",
    "    '''\n",
    ")"
   ]
  },
  {
   "cell_type": "code",
   "execution_count": 7,
   "metadata": {},
   "outputs": [],
   "source": [
    "url = 'jdbc:mysql://node01:3306/txkt'\n",
    "table = 'ads_video'\n",
    "auth_mysql = {\"user\": \"root\", \"password\": \"@WSX3edc\"}\n",
    "\n",
    "df.write.jdbc(url, table, mode='overwrite', properties=auth_mysql)"
   ]
  },
  {
   "cell_type": "code",
   "execution_count": 5,
   "metadata": {},
   "outputs": [],
   "source": [
    "url = 'jdbc:mysql://101.35.21.127:3306/txkt'\n",
    "table = 'ads_video'\n",
    "auth_mysql = {\"user\": \"txkt\", \"password\": \"jKmnGWj6szmDa8hw\"}\n",
    "\n",
    "df.write.jdbc(url, table, mode='overwrite', properties=auth_mysql)"
   ]
  },
  {
   "cell_type": "code",
   "execution_count": 8,
   "metadata": {},
   "outputs": [],
   "source": [
    "df.write.mode(\"overwrite\") \\\n",
    "  .format(\"jdbc\") \\\n",
    "  .option(\"url\", \"jdbc:mysql://node01:3306/txkt\") \\\n",
    "  .option(\"dbtable\", \"ads_video\") \\\n",
    "  .option(\"user\", \"root\") \\\n",
    "  .option(\"password\", \"@WSX3edc\") \\\n",
    "  .save()"
   ]
  },
  {
   "cell_type": "code",
   "execution_count": 31,
   "metadata": {},
   "outputs": [],
   "source": [
    "df.write.mode(\"overwrite\") \\\n",
    "  .format(\"jdbc\") \\\n",
    "  .option(\"url\", \"jdbc:mysql://101.35.21.127:3306/txkt\") \\\n",
    "  .option(\"dbtable\", \"ads_video\") \\\n",
    "  .option(\"user\", \"txkt\") \\\n",
    "  .option(\"password\", \"jKmnGWj6szmDa8hw\") \\\n",
    "  .save()"
   ]
  },
  {
   "cell_type": "code",
   "execution_count": null,
   "metadata": {},
   "outputs": [],
   "source": []
  }
 ],
 "metadata": {
  "kernelspec": {
   "display_name": "Python 3",
   "language": "python",
   "name": "python3"
  },
  "language_info": {
   "codemirror_mode": {
    "name": "ipython",
    "version": 3
   },
   "file_extension": ".py",
   "mimetype": "text/x-python",
   "name": "python",
   "nbconvert_exporter": "python",
   "pygments_lexer": "ipython3",
   "version": "3.6.13"
  },
  "orig_nbformat": 4
 },
 "nbformat": 4,
 "nbformat_minor": 2
}
