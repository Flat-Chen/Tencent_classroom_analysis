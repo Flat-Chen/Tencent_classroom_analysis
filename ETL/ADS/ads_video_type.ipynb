{
 "cells": [
  {
   "cell_type": "code",
   "execution_count": 34,
   "metadata": {},
   "outputs": [
    {
     "data": {
      "text/plain": [
       "DataFrame[]"
      ]
     },
     "execution_count": 34,
     "metadata": {},
     "output_type": "execute_result"
    }
   ],
   "source": [
    "spark.sql('drop table txkt.ads_organ')"
   ]
  },
  {
   "cell_type": "code",
   "execution_count": 39,
   "metadata": {},
   "outputs": [
    {
     "data": {
      "text/plain": [
       "DataFrame[]"
      ]
     },
     "execution_count": 39,
     "metadata": {},
     "output_type": "execute_result"
    }
   ],
   "source": [
    "spark.sql(\n",
    "    '''\n",
    "       CREATE TABLE IF NOT EXISTS txkt.ads_video_type\n",
    "       (\n",
    "         `video_type`                   STRING COMMENT '视频分类大类',    \n",
    "         `max_study_video`              STRING COMMENT '学习人数最多视频',\n",
    "         `add_study_num_10d`            BIGINT COMMENT '近十天增加学习人数',\n",
    "         `add_person_num_10d`           BIGINT COMMENT '近十天增加购买/报名人数', \n",
    "         `add_person_num_10d_max_video` STRING COMMENT '近十天增加购买/报名人数最多的的视频ID'     \n",
    "       ) \n",
    "       STORED AS PARQUET\n",
    "    '''\n",
    ")\n"
   ]
  },
  {
   "cell_type": "code",
   "execution_count": 40,
   "metadata": {},
   "outputs": [
    {
     "data": {
      "text/plain": [
       "DataFrame[]"
      ]
     },
     "execution_count": 40,
     "metadata": {},
     "output_type": "execute_result"
    }
   ],
   "source": [
    "spark.sql(\n",
    "    '''\n",
    "        INSERT OVERWRITE TABLE txkt.ads_video_type\n",
    "        SELECT video_type,\n",
    "               max_study_video,\n",
    "               add_study_num_10d,\n",
    "               add_person_num_10d,\n",
    "               add_person_num_10d_max_video\n",
    "          FROM txkt.dws_video_type\n",
    "         WHERE dt='{dt}'\n",
    "    '''.format(dt='2022-03-23')\n",
    ")"
   ]
  },
  {
   "cell_type": "code",
   "execution_count": 27,
   "metadata": {},
   "outputs": [],
   "source": [
    "df = spark.sql(\n",
    "    '''\n",
    "        SELECT *\n",
    "          FROM txkt.ads_video_type\n",
    "    '''\n",
    ")"
   ]
  },
  {
   "cell_type": "code",
   "execution_count": 28,
   "metadata": {},
   "outputs": [],
   "source": [
    "df.write.mode(\"overwrite\") \\\n",
    "  .format(\"jdbc\") \\\n",
    "  .option(\"url\", \"jdbc:mysql://101.35.21.127:3306/txkt\") \\\n",
    "  .option(\"dbtable\", \"ads_video_type\") \\\n",
    "  .option(\"user\", \"txkt\") \\\n",
    "  .option(\"password\", \"jKmnGWj6szmDa8hw\") \\\n",
    "  .save()"
   ]
  },
  {
   "cell_type": "code",
   "execution_count": null,
   "metadata": {},
   "outputs": [],
   "source": []
  }
 ],
 "metadata": {
  "kernelspec": {
   "display_name": "Python 3",
   "language": "python",
   "name": "python3"
  },
  "language_info": {
   "codemirror_mode": {
    "name": "ipython",
    "version": 3
   },
   "file_extension": ".py",
   "mimetype": "text/x-python",
   "name": "python",
   "nbconvert_exporter": "python",
   "pygments_lexer": "ipython3",
   "version": "3.6.13"
  },
  "orig_nbformat": 4
 },
 "nbformat": 4,
 "nbformat_minor": 2
}
