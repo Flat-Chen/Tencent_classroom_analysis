{
 "cells": [
  {
   "cell_type": "code",
   "execution_count": 2,
   "metadata": {},
   "outputs": [],
   "source": [
    "from pyspark.sql import SparkSession\n",
    "spark = SparkSession.builder \\\n",
    "    .appName(\"PySparkOnYarn\") \\\n",
    "    .master('yarn') \\\n",
    "    .config(\"spark.submit.deployMode\", \"client\") \\\n",
    "    .config(\"spark.driver.cores\", 1) \\\n",
    "    .config(\"spark.driver.memory\", \"1G\") \\\n",
    "    .config(\"spark.executor.cores\", 1) \\\n",
    "    .config(\"spark.executor.memory\", \"1G\") \\\n",
    "    .config(\"spark.executor.num\", 2) \\\n",
    "    .config(\"spark.jars\",\"hdfs://node01:9000/jar/mysql-connector-java-8.0.16.jar\") \\\n",
    "    .enableHiveSupport() \\\n",
    "    .getOrCreate()"
   ]
  },
  {
   "cell_type": "code",
   "execution_count": 29,
   "metadata": {},
   "outputs": [],
   "source": [
    "\n",
    "tb_df = spark.read \\\n",
    "    .format(\"jdbc\") \\\n",
    "    .option(\"driver\", \"com.mysql.jdbc.Driver\") \\\n",
    "    .option(\"url\", \"jdbc:mysql://node01:3306/txkt\") \\\n",
    "    .option(\"user\", \"root\") \\\n",
    "    .option(\"password\", \"@WSX3edc\") \\\n",
    "    .option(\"spark.sql.parquet.int96AsTimestamp\",False) \\\n",
    "    .option(\"dbtable\", 'tencent_study_video_spider_2022_03_26') \\\n",
    "    .load()\n",
    "tb_df.createOrReplaceTempView(\"mysql_tencent_study_video_spider\")"
   ]
  },
  {
   "cell_type": "code",
   "execution_count": null,
   "metadata": {},
   "outputs": [],
   "source": [
    "spark.catalog.cacheTable('tencent_study_video_spider_2022_03_23')"
   ]
  },
  {
   "cell_type": "code",
   "execution_count": 5,
   "metadata": {},
   "outputs": [
    {
     "data": {
      "text/plain": [
       "DataFrame[]"
      ]
     },
     "execution_count": 5,
     "metadata": {},
     "output_type": "execute_result"
    }
   ],
   "source": [
    "spark.sql(\n",
    "    '''\n",
    "    CREATE TABLE IF NOT EXISTS txkt.ods_tencent_study_video\n",
    "      (\n",
    "        `video_type1`          STRING COMMENT '视频大类',\n",
    "        `video_type2`          STRING COMMENT '视频中类',\n",
    "        `video_type3`          STRING COMMENT '视频小类',\n",
    "        `video_title`          STRING COMMENT '视频标题',\n",
    "        `video_url`            STRING COMMENT '视频url',\n",
    "        `video_sections_num`   STRING COMMENT '视频节数',\n",
    "        `video_index_page`     INT    COMMENT '视频所在页数',\n",
    "        `organ_name`           STRING COMMENT '机构名称',\n",
    "        `price`                STRING COMMENT '收费信息(单位：分)',\n",
    "        `person_num`           STRING COMMENT '购买/报名人数',\n",
    "        `recently_study_num`   STRING COMMENT '最近在学',\n",
    "        `sign_up_num`          STRING COMMENT '累计报名',\n",
    "        `video_praise_degree`  STRING COMMENT '好评度',\n",
    "        `organ_praise_degree`  STRING COMMENT '机构好评度',\n",
    "        `organ_video_num`      STRING COMMENT '机构课程数',\n",
    "        `organ_all_person_num` STRING COMMENT '机构总学习人次',\n",
    "        `grab_time`            STRING COMMENT '数据采集时间',\n",
    "        `etl_time`             STRING COMMENT '数据加工时间'\n",
    "      ) \n",
    "      PARTITIONED BY (`dt` STRING) \n",
    "      STORED AS PARQUET\n",
    "    '''\n",
    ")\n"
   ]
  },
  {
   "cell_type": "code",
   "execution_count": 30,
   "metadata": {},
   "outputs": [
    {
     "data": {
      "text/plain": [
       "DataFrame[]"
      ]
     },
     "execution_count": 30,
     "metadata": {},
     "output_type": "execute_result"
    }
   ],
   "source": [
    "spark.sql(\n",
    "    'INSERT OVERWRITE TABLE txkt.ods_tencent_study_video PARTITION (dt)' + \n",
    "    '''\n",
    "         SELECT video_type1,         \n",
    "                video_type2,         \n",
    "                video_type3,         \n",
    "                video_title,         \n",
    "                video_url,           \n",
    "                video_sections_num,  \n",
    "                video_index_page,    \n",
    "                organ_name,          \n",
    "                price,               \n",
    "                person_num,          \n",
    "                recently_study_num,  \n",
    "                sign_up_num,         \n",
    "                video_praise_degree, \n",
    "                organ_praise_degree, \n",
    "                organ_video_num,     \n",
    "                organ_all_person_num,\n",
    "                grab_time,           \n",
    "                FROM_UNIXTIME(CAST(NOW() AS BIGINT), 'yyyy-MM-dd HH:mm:ss') AS elt_time,\n",
    "                DATE_FORMAT(TO_TIMESTAMP(grab_time, 'yyyy-MM-dd HH:mm:ss'), 'yyyy-MM-dd') AS dt\n",
    "           FROM mysql_tencent_study_video_spider\n",
    "    '''\n",
    ")"
   ]
  },
  {
   "cell_type": "code",
   "execution_count": 32,
   "metadata": {},
   "outputs": [
    {
     "name": "stdout",
     "output_type": "stream",
     "text": [
      "+----------+--------+\n",
      "|        dt|count(1)|\n",
      "+----------+--------+\n",
      "|2022-03-13|   77566|\n",
      "|2022-03-23|   77995|\n",
      "|2022-03-24|   78161|\n",
      "|2022-03-25|   77030|\n",
      "|2022-03-26|   78488|\n",
      "+----------+--------+\n",
      "\n"
     ]
    }
   ],
   "source": [
    "spark.sql(\"SELECT dt, COUNT(*) FROM txkt.ods_tencent_study_video GROUP BY dt ORDER BY dt;\").show()"
   ]
  },
  {
   "cell_type": "code",
   "execution_count": null,
   "metadata": {},
   "outputs": [],
   "source": [
    "spark.stop()"
   ]
  },
  {
   "cell_type": "code",
   "execution_count": null,
   "metadata": {},
   "outputs": [],
   "source": []
  }
 ],
 "metadata": {
  "kernelspec": {
   "display_name": "Python 3",
   "language": "python",
   "name": "python3"
  },
  "orig_nbformat": 4
 },
 "nbformat": 4,
 "nbformat_minor": 2
}
